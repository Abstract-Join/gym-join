{
 "cells": [
  {
   "cell_type": "code",
   "execution_count": 1,
   "metadata": {},
   "outputs": [],
   "source": [
    "import math, random\n",
    "\n",
    "import gym\n",
    "import numpy as np\n",
    "\n",
    "import torch\n",
    "import torch.nn as nn\n",
    "import torch.optim as optim\n",
    "import torch.autograd as autograd \n",
    "import torch.nn.functional as F\n",
    "import yaml\n"
   ]
  },
  {
   "cell_type": "code",
   "execution_count": 2,
   "metadata": {},
   "outputs": [],
   "source": [
    "from IPython.display import clear_output\n",
    "import matplotlib.pyplot as plt\n",
    "%matplotlib inline"
   ]
  },
  {
   "cell_type": "markdown",
   "metadata": {},
   "source": [
    "<h3>Use Cuda</h3>"
   ]
  },
  {
   "cell_type": "code",
   "execution_count": 3,
   "metadata": {},
   "outputs": [],
   "source": [
    "USE_CUDA = torch.cuda.is_available()\n",
    "Variable = lambda *args, **kwargs: autograd.Variable(*args, **kwargs).cuda() if USE_CUDA else autograd.Variable(*args, **kwargs)"
   ]
  },
  {
   "cell_type": "markdown",
   "metadata": {},
   "source": [
    "<h2>Replay Buffer</h2>"
   ]
  },
  {
   "cell_type": "code",
   "execution_count": 4,
   "metadata": {},
   "outputs": [],
   "source": [
    "from collections import deque\n",
    "\n",
    "class ReplayBuffer(object):\n",
    "    def __init__(self, capacity):\n",
    "        self.buffer = deque(maxlen=capacity)\n",
    "    \n",
    "    def push(self, state, action, reward, next_state, done):\n",
    "        state      = np.expand_dims(state, 0)\n",
    "        next_state = np.expand_dims(next_state, 0)\n",
    "            \n",
    "        self.buffer.append((state, action, reward, next_state, done))\n",
    "    \n",
    "    def sample(self, batch_size):\n",
    "        state, action, reward, next_state, done = zip(*random.sample(self.buffer, batch_size))\n",
    "        return np.concatenate(state), action, reward, np.concatenate(next_state), done\n",
    "    \n",
    "    def __len__(self):\n",
    "        return len(self.buffer)"
   ]
  },
  {
   "cell_type": "markdown",
   "metadata": {},
   "source": [
    "<h2>Join Environment</h2>"
   ]
  },
  {
   "cell_type": "code",
   "execution_count": 5,
   "metadata": {},
   "outputs": [
    {
     "name": "stdout",
     "output_type": "stream",
     "text": [
      "Processing /home/koshy/Desktop/Research/GenBanditJoin/gym-join\n",
      "Requirement already satisfied: gym in /home/koshy/miniconda3/envs/ml/lib/python3.7/site-packages (from gym-join==0.0.1) (0.17.2)\n",
      "Requirement already satisfied: scipy in /home/koshy/miniconda3/envs/ml/lib/python3.7/site-packages (from gym->gym-join==0.0.1) (1.4.1)\n",
      "Requirement already satisfied: cloudpickle<1.4.0,>=1.2.0 in /home/koshy/miniconda3/envs/ml/lib/python3.7/site-packages (from gym->gym-join==0.0.1) (1.3.0)\n",
      "Requirement already satisfied: pyglet<=1.5.0,>=1.4.0 in /home/koshy/miniconda3/envs/ml/lib/python3.7/site-packages (from gym->gym-join==0.0.1) (1.5.0)\n",
      "Requirement already satisfied: numpy>=1.10.4 in /home/koshy/miniconda3/envs/ml/lib/python3.7/site-packages (from gym->gym-join==0.0.1) (1.18.1)\n",
      "Requirement already satisfied: future in /home/koshy/miniconda3/envs/ml/lib/python3.7/site-packages (from pyglet<=1.5.0,>=1.4.0->gym->gym-join==0.0.1) (0.18.2)\n",
      "Building wheels for collected packages: gym-join\n",
      "  Building wheel for gym-join (setup.py) ... \u001b[?25ldone\n",
      "\u001b[?25h  Created wheel for gym-join: filename=gym_join-0.0.1-py3-none-any.whl size=1016 sha256=3cc766cdba2ab7f33ab5558b641be7f38f411e9652c769716ea80c6ca046cb2f\n",
      "  Stored in directory: /home/koshy/.cache/pip/wheels/22/d0/70/0f3708ba208b5d500813b60bc7fced6ee3f58b75449f492ec9\n",
      "Successfully built gym-join\n",
      "Installing collected packages: gym-join\n",
      "  Attempting uninstall: gym-join\n",
      "    Found existing installation: gym-join 0.0.1\n",
      "    Uninstalling gym-join-0.0.1:\n",
      "      Successfully uninstalled gym-join-0.0.1\n",
      "Successfully installed gym-join-0.0.1\n"
     ]
    }
   ],
   "source": [
    "!pip install ."
   ]
  },
  {
   "cell_type": "code",
   "execution_count": 6,
   "metadata": {},
   "outputs": [
    {
     "name": "stderr",
     "output_type": "stream",
     "text": [
      "/home/koshy/miniconda3/envs/ml/lib/python3.7/site-packages/gym/logger.py:30: UserWarning: \u001b[33mWARN: Box bound precision lowered by casting to float32\u001b[0m\n",
      "  warnings.warn(colorize('%s: %s'%('WARN', msg % args), 'yellow'))\n"
     ]
    }
   ],
   "source": [
    "with open('config.yml') as f:\n",
    "    config = yaml.safe_load(f)\n",
    "\n",
    "env_id = 'gym_join:join-v0'\n",
    "env = gym.make(env_id)\n",
    "env.set_config(config)"
   ]
  },
  {
   "cell_type": "markdown",
   "metadata": {},
   "source": [
    "<h2>Epsilon greedy exploration</h2>"
   ]
  },
  {
   "cell_type": "code",
   "execution_count": 7,
   "metadata": {},
   "outputs": [],
   "source": [
    "epsilon_start = 1.0\n",
    "epsilon_final = 0.01\n",
    "epsilon_decay = 500\n",
    "\n",
    "epsilon_by_frame = lambda frame_idx: epsilon_final + (epsilon_start - epsilon_final) * math.exp(-1. * frame_idx / epsilon_decay)"
   ]
  },
  {
   "cell_type": "code",
   "execution_count": 8,
   "metadata": {},
   "outputs": [
    {
     "data": {
      "text/plain": [
       "[<matplotlib.lines.Line2D at 0x7fc78ec4c750>]"
      ]
     },
     "execution_count": 8,
     "metadata": {},
     "output_type": "execute_result"
    },
    {
     "data": {
      "image/png": "[encoded data removed]",
      "text/plain": [
       "<Figure size 432x288 with 1 Axes>"
      ]
     },
     "metadata": {
      "needs_background": "light"
     },
     "output_type": "display_data"
    }
   ],
   "source": [
    "plt.plot([epsilon_by_frame(i) for i in range(10000)])"
   ]
  },
  {
   "cell_type": "markdown",
   "metadata": {},
   "source": [
    "<h2>Double Deep Q Network</h2>"
   ]
  },
  {
   "cell_type": "code",
   "execution_count": 9,
   "metadata": {},
   "outputs": [],
   "source": [
    "class DQN(nn.Module):\n",
    "    def __init__(self, num_inputs, num_actions):\n",
    "        super(DQN, self).__init__()\n",
    "        \n",
    "        self.layers = nn.Sequential(\n",
    "            nn.Linear(env.observation_space.shape[0], 128),\n",
    "            nn.ReLU(),\n",
    "            nn.Linear(128, 128),\n",
    "            nn.ReLU(),\n",
    "            nn.Linear(128, env.action_space.n)\n",
    "        )\n",
    "        \n",
    "    def forward(self, x):\n",
    "        return self.layers(x)\n",
    "    \n",
    "    def act(self, state, epsilon):\n",
    "        if random.random() > epsilon:\n",
    "            state   = Variable(torch.FloatTensor(state).unsqueeze(0), volatile=True)\n",
    "            q_value = self.forward(state)\n",
    "            action  = q_value.max(1)[1].data[0]\n",
    "        else:\n",
    "            action = random.randrange(env.action_space.n)\n",
    "        return action"
   ]
  },
  {
   "cell_type": "code",
   "execution_count": 10,
   "metadata": {},
   "outputs": [],
   "source": [
    "current_model = DQN(env.observation_space.shape[0], env.action_space.n)\n",
    "target_model  = DQN(env.observation_space.shape[0], env.action_space.n)\n",
    "\n",
    "if USE_CUDA:\n",
    "    current_model = current_model.cuda()\n",
    "    target_model  = target_model.cuda()\n",
    "    \n",
    "optimizer = optim.Adam(current_model.parameters())\n",
    "\n",
    "replay_buffer = ReplayBuffer(1000)"
   ]
  },
  {
   "cell_type": "markdown",
   "metadata": {},
   "source": [
    "<h3>Synchronize current policy net and target net</h3>"
   ]
  },
  {
   "cell_type": "code",
   "execution_count": 11,
   "metadata": {},
   "outputs": [],
   "source": [
    "def update_target(current_model, target_model):\n",
    "    target_model.load_state_dict(current_model.state_dict())"
   ]
  },
  {
   "cell_type": "code",
   "execution_count": 12,
   "metadata": {},
   "outputs": [],
   "source": [
    "update_target(current_model, target_model)"
   ]
  },
  {
   "cell_type": "markdown",
   "metadata": {},
   "source": [
    "<h2>Computing Temporal Difference Loss</h2>"
   ]
  },
  {
   "cell_type": "code",
   "execution_count": 13,
   "metadata": {},
   "outputs": [],
   "source": [
    "def compute_td_loss(batch_size):\n",
    "    state, action, reward, next_state, done = replay_buffer.sample(batch_size)\n",
    "\n",
    "    state      = Variable(torch.FloatTensor(np.float32(state)))\n",
    "    next_state = Variable(torch.FloatTensor(np.float32(next_state)))\n",
    "    action     = Variable(torch.LongTensor(action))\n",
    "    reward     = Variable(torch.FloatTensor(reward))\n",
    "    done       = Variable(torch.FloatTensor(done))\n",
    "\n",
    "    q_values      = current_model(state)\n",
    "    next_q_values = current_model(next_state)\n",
    "    next_q_state_values = target_model(next_state) \n",
    "\n",
    "    q_value       = q_values.gather(1, action.unsqueeze(1)).squeeze(1) \n",
    "    next_q_value = next_q_state_values.gather(1, torch.max(next_q_values, 1)[1].unsqueeze(1)).squeeze(1)\n",
    "    expected_q_value = reward + gamma * next_q_value * (1 - done)\n",
    "    \n",
    "    loss = (q_value - Variable(expected_q_value.data)).pow(2).mean()\n",
    "        \n",
    "    optimizer.zero_grad()\n",
    "    loss.backward()\n",
    "    optimizer.step()\n",
    "    \n",
    "    return loss"
   ]
  },
  {
   "cell_type": "code",
   "execution_count": 14,
   "metadata": {},
   "outputs": [],
   "source": [
    "def plot(frame_idx, rewards, losses):\n",
    "    clear_output(True)\n",
    "    plt.figure(figsize=(20,5))\n",
    "    plt.subplot(131)\n",
    "    plt.title('frame %s. reward: %s' % (frame_idx, np.mean(rewards[-10:])))\n",
    "    plt.plot(rewards)\n",
    "    plt.subplot(132)\n",
    "    plt.title('loss')\n",
    "    plt.plot(losses)\n",
    "    plt.show()"
   ]
  },
  {
   "cell_type": "markdown",
   "metadata": {},
   "source": [
    "<h2>Training</h2>"
   ]
  },
  {
   "cell_type": "code",
   "execution_count": 15,
   "metadata": {},
   "outputs": [
    {
     "data": {
      "image/png": "[encoded data removed]",
      "text/plain": [
       "<Figure size 1440x360 with 2 Axes>"
      ]
     },
     "metadata": {
      "needs_background": "light"
     },
     "output_type": "display_data"
    },
    {
     "name": "stdout",
     "output_type": "stream",
     "text": [
      "3\n",
      "Reward : 76\n",
      "0\n",
      "Reward : 77\n",
      "1\n",
      "Reward : 77\n",
      "2\n",
      "Reward : 158\n",
      "3\n",
      "Reward : 158\n",
      "2\n",
      "Reward : 218\n",
      "0\n",
      "Reward : 218\n",
      "3\n",
      "Reward : 218\n",
      "2\n",
      "Reward : 287\n",
      "2\n",
      "Reward : 354\n",
      "2\n",
      "Reward : 426\n",
      "0\n",
      "Reward : 426\n",
      "0\n",
      "Reward : 426\n",
      "2\n",
      "Reward : 498\n",
      "2\n",
      "Reward : 579\n",
      "0\n",
      "Reward : 579\n",
      "1\n",
      "Reward : 579\n",
      "3\n",
      "Reward : 579\n",
      "3\n",
      "Reward : 579\n",
      "2\n",
      "Reward : 657\n",
      "1\n",
      "Reward : 657\n",
      "0\n",
      "Reward : 657\n",
      "1\n",
      "Reward : 657\n",
      "1\n",
      "Reward : 657\n",
      "1\n",
      "Reward : 657\n",
      "0\n",
      "Reward : 657\n",
      "0\n",
      "Reward : 657\n",
      "1\n",
      "Reward : 657\n",
      "0\n",
      "Reward : 657\n",
      "0\n",
      "Reward : 657\n",
      "1\n",
      "Reward : 657\n",
      "2\n",
      "Reward : 733\n",
      "1\n",
      "Reward : 733\n",
      "1\n",
      "Reward : 733\n",
      "3\n",
      "Reward : 733\n",
      "0\n",
      "Reward : 733\n",
      "2\n",
      "Reward : 803\n",
      "3\n",
      "Reward : 803\n",
      "1\n",
      "Reward : 803\n",
      "2\n",
      "Reward : 872\n",
      "0\n",
      "Reward : 872\n",
      "2\n",
      "Reward : 953\n",
      "1\n",
      "Reward : 953\n",
      "0\n",
      "Reward : 953\n",
      "2\n",
      "Reward : 1031\n",
      "0\n",
      "Reward : 1031\n",
      "0\n",
      "Reward : 1031\n",
      "3\n",
      "Reward : 1031\n",
      "3\n",
      "Reward : 1031\n",
      "2\n",
      "Reward : 1103\n",
      "0\n",
      "Reward : 1103\n"
     ]
    },
    {
     "name": "stderr",
     "output_type": "stream",
     "text": [
      "/home/koshy/miniconda3/envs/ml/lib/python3.7/site-packages/ipykernel_launcher.py:2: UserWarning: volatile was removed and now has no effect. Use `with torch.no_grad():` instead.\n",
      "  \n"
     ]
    },
    {
     "name": "stdout",
     "output_type": "stream",
     "text": [
      "tensor(2, device='cuda:0')\n",
      "Reward : 1177\n",
      "2\n",
      "Reward : 1254\n",
      "2\n",
      "Reward : 1316\n",
      "2\n",
      "Reward : 1386\n",
      "3\n",
      "Reward : 1386\n",
      "0\n",
      "Reward : 1386\n",
      "0\n",
      "Reward : 1386\n",
      "2\n",
      "Reward : 1463\n",
      "tensor(2, device='cuda:0')\n",
      "Reward : 1541\n",
      "2\n",
      "Reward : 1626\n",
      "3\n",
      "Reward : 1626\n",
      "3\n",
      "Reward : 1626\n",
      "1\n",
      "Reward : 1626\n",
      "2\n",
      "Reward : 1692\n",
      "3\n",
      "Reward : 1692\n",
      "1\n",
      "Reward : 1692\n",
      "0\n",
      "Reward : 1692\n",
      "1\n",
      "Reward : 1692\n",
      "3\n",
      "Reward : 1692\n",
      "2\n",
      "Reward : 1767\n",
      "tensor(2, device='cuda:0')\n",
      "Reward : 1829\n",
      "2\n",
      "Reward : 1905\n",
      "tensor(2, device='cuda:0')\n",
      "Reward : 1978\n",
      "tensor(2, device='cuda:0')\n",
      "Reward : 2054\n",
      "2\n",
      "Reward : 2124\n",
      "0\n",
      "Reward : 2124\n",
      "1\n",
      "Reward : 2124\n",
      "1\n",
      "Reward : 2124\n",
      "3\n",
      "Reward : 2124\n",
      "0\n",
      "Reward : 2124\n",
      "3\n",
      "Reward : 2124\n",
      "tensor(2, device='cuda:0')\n",
      "Reward : 2189\n",
      "0\n",
      "Reward : 2189\n",
      "2\n",
      "Reward : 2257\n",
      "tensor(2, device='cuda:0')\n",
      "Reward : 2327\n",
      "0\n",
      "Reward : 2327\n",
      "2\n",
      "Reward : 2410\n",
      "0\n",
      "Reward : 2410\n",
      "2\n",
      "Reward : 2475\n",
      "1\n",
      "Reward : 2475\n",
      "3\n",
      "Reward : 2475\n",
      "3\n",
      "Reward : 2475\n",
      "tensor(2, device='cuda:0')\n",
      "Reward : 2535\n",
      "2\n",
      "Reward : 2605\n",
      "3\n",
      "Reward : 2605\n",
      "1\n",
      "Reward : 2605\n",
      "0\n",
      "Reward : 2605\n",
      "0\n",
      "Reward : 2605\n",
      "2\n",
      "Reward : 2694\n",
      "3\n",
      "Reward : 2694\n",
      "3\n",
      "Reward : 2694\n",
      "tensor(2, device='cuda:0')\n",
      "Reward : 2781\n",
      "tensor(2, device='cuda:0')\n",
      "Reward : 2860\n",
      "1\n",
      "Reward : 2860\n",
      "0\n",
      "Reward : 2860\n",
      "0\n",
      "Reward : 2860\n",
      "3\n",
      "Reward : 2860\n",
      "tensor(2, device='cuda:0')\n",
      "Reward : 2934\n",
      "tensor(2, device='cuda:0')\n",
      "Reward : 3003\n",
      "tensor(2, device='cuda:0')\n",
      "Reward : 3083\n",
      "tensor(2, device='cuda:0')\n",
      "Reward : 3153\n",
      "0\n",
      "Reward : 3153\n",
      "1\n",
      "Reward : 3153\n",
      "3\n",
      "Reward : 3153\n",
      "1\n",
      "Reward : 3153\n",
      "2\n",
      "Reward : 3229\n",
      "3\n",
      "Reward : 3229\n",
      "3\n",
      "Reward : 3229\n",
      "2\n",
      "Reward : 3302\n",
      "0\n",
      "Reward : 3302\n",
      "2\n",
      "Reward : 3382\n",
      "tensor(2, device='cuda:0')\n",
      "Reward : 3456\n",
      "2\n",
      "Reward : 3532\n",
      "tensor(2, device='cuda:0')\n",
      "Reward : 3600\n",
      "2\n",
      "Reward : 3676\n",
      "1\n",
      "Reward : 3676\n",
      "1\n",
      "Reward : 3676\n",
      "2\n",
      "Reward : 3737\n",
      "3\n",
      "Reward : 3737\n",
      "2\n",
      "Reward : 3807\n",
      "3\n",
      "Reward : 3807\n",
      "3\n",
      "Reward : 3807\n",
      "2\n",
      "Reward : 3869\n",
      "0\n",
      "Reward : 3869\n",
      "2\n",
      "Reward : 3937\n",
      "3\n",
      "Reward : 3937\n",
      "1\n",
      "Reward : 3937\n",
      "0\n",
      "Reward : 3937\n",
      "1\n",
      "Reward : 3937\n",
      "3\n",
      "Reward : 3937\n",
      "3\n",
      "Reward : 3937\n",
      "2\n",
      "Reward : 4018\n",
      "tensor(2, device='cuda:0')\n",
      "Reward : 4097\n",
      "2\n",
      "Reward : 4185\n",
      "tensor(2, device='cuda:0')\n",
      "Reward : 4260\n",
      "3\n",
      "Reward : 4260\n",
      "3\n",
      "Reward : 4260\n",
      "2\n",
      "Reward : 4330\n",
      "0\n",
      "Reward : 4330\n",
      "0\n",
      "Reward : 4330\n",
      "2\n",
      "Reward : 4398\n",
      "tensor(2, device='cuda:0')\n",
      "Reward : 4470\n",
      "tensor(2, device='cuda:0')\n",
      "Reward : 4549\n",
      "0\n",
      "Reward : 4549\n",
      "tensor(2, device='cuda:0')\n",
      "Reward : 4616\n",
      "3\n",
      "Reward : 4616\n",
      "3\n",
      "Reward : 4616\n",
      "2\n",
      "Reward : 4693\n",
      "2\n",
      "Reward : 4770\n",
      "tensor(2, device='cuda:0')\n",
      "Reward : 4854\n",
      "tensor(2, device='cuda:0')\n",
      "Reward : 4935\n",
      "1\n",
      "Reward : 4935\n",
      "2\n",
      "Reward : 5001\n",
      "5000\n"
     ]
    }
   ],
   "source": [
    "num_frames = 100\n",
    "batch_size = 16\n",
    "gamma      = 0.9\n",
    "\n",
    "losses = []\n",
    "all_rewards = []\n",
    "episode_reward = 0\n",
    "\n",
    "state = env.reset()\n",
    "frame_idx = 0\n",
    "done = False\n",
    "while not done:\n",
    "    epsilon = epsilon_by_frame(frame_idx)\n",
    "    action = current_model.act(state, epsilon)\n",
    "    \n",
    "#     print(action)\n",
    "    next_state, reward, done = env.step(action)\n",
    "    print(action)\n",
    "    replay_buffer.push(state, action, reward, next_state, done)\n",
    "#     print(reward)\n",
    "    state = next_state\n",
    "    episode_reward += reward\n",
    "    print(\"Reward : \" + str(episode_reward))\n",
    "    all_rewards.append(reward)\n",
    "        \n",
    "    if len(replay_buffer) > batch_size:\n",
    "        loss = compute_td_loss(batch_size)\n",
    "        losses.append(loss.data.item())\n",
    "        \n",
    "    if frame_idx % 200 == 0:\n",
    "        plot(frame_idx, all_rewards, losses)\n",
    "        \n",
    "    if frame_idx % 100 == 0:\n",
    "        update_target(current_model, target_model)\n",
    "    frame_idx += 1\n",
    "print(len(env.results))"
   ]
  },
  {
   "cell_type": "code",
   "execution_count": null,
   "metadata": {},
   "outputs": [],
   "source": []
  }
 ],
 "metadata": {
  "kernelspec": {
   "display_name": "Python 3",
   "language": "python",
   "name": "python3"
  },
  "language_info": {
   "codemirror_mode": {
    "name": "ipython",
    "version": 3
   },
   "file_extension": ".py",
   "mimetype": "text/x-python",
   "name": "python",
   "nbconvert_exporter": "python",
   "pygments_lexer": "ipython3",
   "version": "3.7.7"
  }
 },
 "nbformat": 4,
 "nbformat_minor": 4
}
